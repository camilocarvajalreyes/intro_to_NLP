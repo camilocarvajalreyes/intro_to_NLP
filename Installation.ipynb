{
 "cells": [
  {
   "cell_type": "markdown",
   "id": "touched-execution",
   "metadata": {},
   "source": [
    "# Packages installations for Introduction to NLP\n",
    "Author: [Camilo](https://github.com/camilocarvajalreyes/)\n",
    "\n",
    "\n",
    "This Notebooks assumes you have Jupyter installed in a conda environment. Otherwise refer to [CentraleSupélec software installation tutorials](https://mycs.centralesupelec.fr/fr/ordinateur/installation-logiciels) or send me an email!\n",
    "\n",
    "Running the following cell will run the required Python packages"
   ]
  },
  {
   "cell_type": "code",
   "execution_count": null,
   "id": "coated-medicine",
   "metadata": {},
   "outputs": [],
   "source": [
    "!pip install -r requirements.txt"
   ]
  },
  {
   "cell_type": "markdown",
   "id": "angry-mission",
   "metadata": {},
   "source": [
    "**We will check if the libraries are properly installed**"
   ]
  },
  {
   "cell_type": "code",
   "execution_count": null,
   "id": "solar-domestic",
   "metadata": {},
   "outputs": [],
   "source": [
    "import subprocess\n",
    "import sys\n",
    "\n",
    "reqs = subprocess.check_output([sys.executable, '-m', 'pip', 'freeze'])\n",
    "installed_packages = [r.decode().split('==')[0] for r in reqs.split()]\n",
    "\n",
    "packages = ['pandas','scikit-learn','numpy','matplotlib','transformers','torch']\n",
    "\n",
    "for package in packages:\n",
    "    if package in installed_packages:\n",
    "        print(package+' is installed')\n",
    "    else:\n",
    "        print(package+' not installed')"
   ]
  },
  {
   "cell_type": "markdown",
   "id": "criminal-greek",
   "metadata": {},
   "source": [
    "all packages should be installed!\n",
    "\n",
    "**Downloading pre-trained vectors**\n",
    "\n",
    "Download GloVe vectors from: [Pre-trained word embeddings](https://centralesupelec-my.sharepoint.com/:f:/g/personal/camilo_carvajal_student-cs_fr/Erl0oZvCR-tEvsVnpgP3JmwBxDXMSyVaLMjgEsi3VvUpUg?e=mhhNhl) and put them in the data folder\n",
    "\n",
    "Then load the data frame to see if everything is okay"
   ]
  },
  {
   "cell_type": "code",
   "execution_count": null,
   "id": "higher-suffering",
   "metadata": {},
   "outputs": [],
   "source": [
    "import pandas as pd\n",
    "vectors_path = 'data/glove.840B.300d.pkl' # change path if necessary\n",
    "vecs = pd.read_pickle(vectors_path)\n",
    "vecs.head()"
   ]
  },
  {
   "cell_type": "markdown",
   "id": "present-labor",
   "metadata": {},
   "source": [
    "You should get a table showing the 5 first vectors"
   ]
  },
  {
   "cell_type": "markdown",
   "id": "crucial-visit",
   "metadata": {},
   "source": [
    "**loading Transformer stuff**"
   ]
  },
  {
   "cell_type": "code",
   "execution_count": null,
   "id": "colored-banana",
   "metadata": {},
   "outputs": [],
   "source": [
    "!pip3 install ipywidgets --user\n",
    "!jupyter nbextension enable --py widgetsnbextension"
   ]
  },
  {
   "cell_type": "markdown",
   "id": "pediatric-fiber",
   "metadata": {},
   "source": [
    "Last line should have: - Validating: OK\n",
    "\n",
    "Then **restart the kernel** and try the following cell"
   ]
  },
  {
   "cell_type": "markdown",
   "id": "recent-hawaii",
   "metadata": {},
   "source": [
    "After downloading the model, the output should be the following:\n",
    "\n",
    "input_ids:\n",
    "\n",
    "\t[[ 101 2023 2003 2019 7953 2742  102]]\n",
    "attention_mask:\n",
    "\n",
    "\t[[1 1 1 1 1 1 1]]"
   ]
  }
 ],
 "metadata": {
  "kernelspec": {
   "display_name": "intro_NLP",
   "language": "python",
   "name": "intro_nlp"
  },
  "language_info": {
   "codemirror_mode": {
    "name": "ipython",
    "version": 3
   },
   "file_extension": ".py",
   "mimetype": "text/x-python",
   "name": "python",
   "nbconvert_exporter": "python",
   "pygments_lexer": "ipython3",
   "version": "3.8.5"
  }
 },
 "nbformat": 4,
 "nbformat_minor": 5
}
