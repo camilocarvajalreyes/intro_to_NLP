{
 "cells": [
  {
   "cell_type": "markdown",
   "id": "fantastic-elements",
   "metadata": {},
   "source": [
    "# Packages installations for Introduction to NLP\n",
    "Author: [Camilo](https://github.com/camilocarvajalreyes/)\n",
    "\n",
    "\n",
    "This Notebooks assumes you have Jupyter installed in a conda environment. Otherwise refer to [CentraleSupélec software installation tutorials](https://mycs.centralesupelec.fr/fr/ordinateur/installation-logiciels) or send me an email!\n",
    "\n",
    "Running the following cell will run the required Python packages"
   ]
  },
  {
   "cell_type": "code",
   "execution_count": null,
   "id": "injured-stations",
   "metadata": {},
   "outputs": [],
   "source": [
    "!pip install numpy\n",
    "!pip install pandas\n",
    "!pip install matplotlib\n",
    "!pip install scikit-learn\n",
    "!pip install transformers\n",
    "!pip install torch"
   ]
  },
  {
   "cell_type": "markdown",
   "id": "north-empty",
   "metadata": {},
   "source": [
    "**We will check if the libraries are properly installed**"
   ]
  },
  {
   "cell_type": "code",
   "execution_count": null,
   "id": "burning-court",
   "metadata": {},
   "outputs": [],
   "source": [
    "import subprocess\n",
    "import sys\n",
    "\n",
    "reqs = subprocess.check_output([sys.executable, '-m', 'pip', 'freeze'])\n",
    "installed_packages = [r.decode().split('==')[0] for r in reqs.split()]\n",
    "\n",
    "packages = ['pandas','scikit-learn','numpy','matplotlib','transformers','torch']\n",
    "\n",
    "for package in packages:\n",
    "    if package in installed_packages:\n",
    "        print(package+' is installed')\n",
    "    else:\n",
    "        print(package+' not installed')"
   ]
  },
  {
   "cell_type": "markdown",
   "id": "korean-server",
   "metadata": {},
   "source": [
    "**loading Transformer stuff**"
   ]
  },
  {
   "cell_type": "code",
   "execution_count": null,
   "id": "norman-jerusalem",
   "metadata": {},
   "outputs": [],
   "source": [
    "!pip3 install ipywidgets --user\n",
    "!jupyter nbextension enable --py widgetsnbextension"
   ]
  },
  {
   "cell_type": "markdown",
   "id": "treated-support",
   "metadata": {},
   "source": [
    "Then try the following cell. If it doesn't work, **restart the kernel** and run it again."
   ]
  },
  {
   "cell_type": "code",
   "execution_count": null,
   "id": "handy-plaintiff",
   "metadata": {},
   "outputs": [],
   "source": [
    "from transformers import DistilBertTokenizer, DistilBertForSequenceClassification\n",
    "\n",
    "MODEL_NAME = \"distilbert-base-uncased-finetuned-sst-2-english\"\n",
    "\n",
    "tokenizer = DistilBertTokenizer.from_pretrained(MODEL_NAME)\n",
    "model = DistilBertForSequenceClassification.from_pretrained(MODEL_NAME)\n",
    "\n",
    "input_example = tokenizer(\"The cutest dog I've ever seen\", return_tensors=\"pt\")\n",
    "output = model(**input_example)\n",
    "print('Output:')\n",
    "print(output)\n",
    "print('Logits:')\n",
    "print(output.logits)"
   ]
  },
  {
   "cell_type": "markdown",
   "id": "mexican-toronto",
   "metadata": {},
   "source": [
    "After downloading the model, the output should be the following:\n",
    "\n",
    "Output:\n",
    "\n",
    "SequenceClassifierOutput(loss=None, logits=tensor([[-3.9886,  4.2962]], grad_fn=<AddmmBackward>), hidden_states=None, attentions=None)\n",
    "    \n",
    "Logits:\n",
    "\n",
    "tensor([[-3.9886,  4.2962]], grad_fn=< AddmmBackward >)"
   ]
  }
 ],
 "metadata": {
  "kernelspec": {
   "display_name": "Python 3",
   "language": "python",
   "name": "python3"
  },
  "language_info": {
   "codemirror_mode": {
    "name": "ipython",
    "version": 3
   },
   "file_extension": ".py",
   "mimetype": "text/x-python",
   "name": "python",
   "nbconvert_exporter": "python",
   "pygments_lexer": "ipython3",
   "version": "3.8.5"
  }
 },
 "nbformat": 4,
 "nbformat_minor": 5
}
