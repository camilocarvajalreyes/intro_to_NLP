{
 "cells": [
  {
   "cell_type": "markdown",
   "id": "secure-beaver",
   "metadata": {},
   "source": [
    "# Visualisation of semantic relations\n",
    "### Using word embeddings\n",
    "\n",
    "Author: [Camilo](https://github.com/camilocarvajalreyes)\n",
    "\n",
    "**Objectives**: You should gain intuition on what kind of information gets\n",
    "encoded in word representations and how to visualise it.\n",
    "\n",
    "\n",
    "**To do**: You will code a **PCA visualisation** of semantic relations using\n",
    "GloVe. They can base their algorithm in an example given with\n",
    "countries and capitals.\n",
    "\n",
    "## Instructions\n",
    "1. Download the vectors, install packages and test if everything is okay (if you haven't done so yet)\n",
    "2. Load the packages and import vectors by running cells in section 0\n",
    "3. Take a look at the code below in which we visualise the GloVe embedding space\n",
    "4. Based on the given code, make your own PCA visualisation of semantic relations.\n",
    "5. Don't forget to ask if you have any question"
   ]
  },
  {
   "cell_type": "markdown",
   "id": "representative-occasions",
   "metadata": {},
   "source": [
    "## Section 0\n",
    "Loading packages and importing pre-trained vectors. **Run all cells in this section**"
   ]
  },
  {
   "cell_type": "code",
   "execution_count": 1,
   "id": "adolescent-influence",
   "metadata": {},
   "outputs": [],
   "source": [
    "import pandas as pd # managing data\n",
    "import matplotlib.pyplot as plt # visualisation\n",
    "plt.rcParams[\"figure.figsize\"] = (10,6) # setting figure size\n",
    "import numpy as np # for operations with vectors\n",
    "import csv # opening csv files\n",
    "from sklearn.decomposition import PCA # dimensionality reduction"
   ]
  },
  {
   "cell_type": "markdown",
   "id": "right-discharge",
   "metadata": {},
   "source": [
    "**GloVe pre-trained vectors**\n",
    "\n",
    "\n",
    "First we import the pickled data frame of original pre-trained vectors. [Source](https://nlp.stanford.edu/projects/glove/)\n",
    "\n",
    "Pennington, J., Socher, R., & Manning, C. D. (2014, October). [Glove: Global vectors for word representation](https://www.aclweb.org/anthology/D14-1162.pdf). In Proceedings of the 2014 conference on empirical methods in natural language processing (EMNLP) (pp. 1532-1543)."
   ]
  },
  {
   "cell_type": "code",
   "execution_count": 2,
   "id": "hidden-cradle",
   "metadata": {},
   "outputs": [
    {
     "data": {
      "text/html": [
       "<div>\n",
       "<style scoped>\n",
       "    .dataframe tbody tr th:only-of-type {\n",
       "        vertical-align: middle;\n",
       "    }\n",
       "\n",
       "    .dataframe tbody tr th {\n",
       "        vertical-align: top;\n",
       "    }\n",
       "\n",
       "    .dataframe thead th {\n",
       "        text-align: right;\n",
       "    }\n",
       "</style>\n",
       "<table border=\"1\" class=\"dataframe\">\n",
       "  <thead>\n",
       "    <tr style=\"text-align: right;\">\n",
       "      <th></th>\n",
       "      <th>1</th>\n",
       "      <th>2</th>\n",
       "      <th>3</th>\n",
       "      <th>4</th>\n",
       "      <th>5</th>\n",
       "      <th>6</th>\n",
       "      <th>7</th>\n",
       "      <th>8</th>\n",
       "      <th>9</th>\n",
       "      <th>10</th>\n",
       "      <th>...</th>\n",
       "      <th>291</th>\n",
       "      <th>292</th>\n",
       "      <th>293</th>\n",
       "      <th>294</th>\n",
       "      <th>295</th>\n",
       "      <th>296</th>\n",
       "      <th>297</th>\n",
       "      <th>298</th>\n",
       "      <th>299</th>\n",
       "      <th>300</th>\n",
       "    </tr>\n",
       "    <tr>\n",
       "      <th>0</th>\n",
       "      <th></th>\n",
       "      <th></th>\n",
       "      <th></th>\n",
       "      <th></th>\n",
       "      <th></th>\n",
       "      <th></th>\n",
       "      <th></th>\n",
       "      <th></th>\n",
       "      <th></th>\n",
       "      <th></th>\n",
       "      <th></th>\n",
       "      <th></th>\n",
       "      <th></th>\n",
       "      <th></th>\n",
       "      <th></th>\n",
       "      <th></th>\n",
       "      <th></th>\n",
       "      <th></th>\n",
       "      <th></th>\n",
       "      <th></th>\n",
       "      <th></th>\n",
       "    </tr>\n",
       "  </thead>\n",
       "  <tbody>\n",
       "    <tr>\n",
       "      <th>,</th>\n",
       "      <td>-0.082752</td>\n",
       "      <td>0.672040</td>\n",
       "      <td>-0.14987</td>\n",
       "      <td>-0.064983</td>\n",
       "      <td>0.056491</td>\n",
       "      <td>0.402280</td>\n",
       "      <td>0.002775</td>\n",
       "      <td>-0.331100</td>\n",
       "      <td>-0.306910</td>\n",
       "      <td>2.0817</td>\n",
       "      <td>...</td>\n",
       "      <td>-0.14331</td>\n",
       "      <td>0.018267</td>\n",
       "      <td>-0.18643</td>\n",
       "      <td>0.207090</td>\n",
       "      <td>-0.355980</td>\n",
       "      <td>0.053380</td>\n",
       "      <td>-0.050821</td>\n",
       "      <td>-0.191800</td>\n",
       "      <td>-0.378460</td>\n",
       "      <td>-0.06589</td>\n",
       "    </tr>\n",
       "    <tr>\n",
       "      <th>.</th>\n",
       "      <td>0.012001</td>\n",
       "      <td>0.207510</td>\n",
       "      <td>-0.12578</td>\n",
       "      <td>-0.593250</td>\n",
       "      <td>0.125250</td>\n",
       "      <td>0.159750</td>\n",
       "      <td>0.137480</td>\n",
       "      <td>-0.331570</td>\n",
       "      <td>-0.136940</td>\n",
       "      <td>1.7893</td>\n",
       "      <td>...</td>\n",
       "      <td>0.16165</td>\n",
       "      <td>-0.066737</td>\n",
       "      <td>-0.29556</td>\n",
       "      <td>0.022612</td>\n",
       "      <td>-0.281350</td>\n",
       "      <td>0.063500</td>\n",
       "      <td>0.140190</td>\n",
       "      <td>0.138710</td>\n",
       "      <td>-0.360490</td>\n",
       "      <td>-0.03500</td>\n",
       "    </tr>\n",
       "    <tr>\n",
       "      <th>the</th>\n",
       "      <td>0.272040</td>\n",
       "      <td>-0.062030</td>\n",
       "      <td>-0.18840</td>\n",
       "      <td>0.023225</td>\n",
       "      <td>-0.018158</td>\n",
       "      <td>0.006719</td>\n",
       "      <td>-0.138770</td>\n",
       "      <td>0.177080</td>\n",
       "      <td>0.177090</td>\n",
       "      <td>2.5882</td>\n",
       "      <td>...</td>\n",
       "      <td>-0.42810</td>\n",
       "      <td>0.168990</td>\n",
       "      <td>0.22511</td>\n",
       "      <td>-0.285570</td>\n",
       "      <td>-0.102800</td>\n",
       "      <td>-0.018168</td>\n",
       "      <td>0.114070</td>\n",
       "      <td>0.130150</td>\n",
       "      <td>-0.183170</td>\n",
       "      <td>0.13230</td>\n",
       "    </tr>\n",
       "    <tr>\n",
       "      <th>and</th>\n",
       "      <td>-0.185670</td>\n",
       "      <td>0.066008</td>\n",
       "      <td>-0.25209</td>\n",
       "      <td>-0.117250</td>\n",
       "      <td>0.265130</td>\n",
       "      <td>0.064908</td>\n",
       "      <td>0.122910</td>\n",
       "      <td>-0.093979</td>\n",
       "      <td>0.024321</td>\n",
       "      <td>2.4926</td>\n",
       "      <td>...</td>\n",
       "      <td>-0.59396</td>\n",
       "      <td>-0.097729</td>\n",
       "      <td>0.20072</td>\n",
       "      <td>0.170550</td>\n",
       "      <td>-0.004736</td>\n",
       "      <td>-0.039709</td>\n",
       "      <td>0.324980</td>\n",
       "      <td>-0.023452</td>\n",
       "      <td>0.123020</td>\n",
       "      <td>0.33120</td>\n",
       "    </tr>\n",
       "    <tr>\n",
       "      <th>to</th>\n",
       "      <td>0.319240</td>\n",
       "      <td>0.063160</td>\n",
       "      <td>-0.27858</td>\n",
       "      <td>0.261200</td>\n",
       "      <td>0.079248</td>\n",
       "      <td>-0.214620</td>\n",
       "      <td>-0.104950</td>\n",
       "      <td>0.154950</td>\n",
       "      <td>-0.033530</td>\n",
       "      <td>2.4834</td>\n",
       "      <td>...</td>\n",
       "      <td>-0.12977</td>\n",
       "      <td>0.371300</td>\n",
       "      <td>0.18888</td>\n",
       "      <td>-0.004274</td>\n",
       "      <td>-0.106450</td>\n",
       "      <td>-0.258100</td>\n",
       "      <td>-0.044629</td>\n",
       "      <td>0.082745</td>\n",
       "      <td>0.097801</td>\n",
       "      <td>0.25045</td>\n",
       "    </tr>\n",
       "  </tbody>\n",
       "</table>\n",
       "<p>5 rows × 300 columns</p>\n",
       "</div>"
      ],
      "text/plain": [
       "          1         2        3         4         5         6         7    \\\n",
       "0                                                                          \n",
       ",   -0.082752  0.672040 -0.14987 -0.064983  0.056491  0.402280  0.002775   \n",
       ".    0.012001  0.207510 -0.12578 -0.593250  0.125250  0.159750  0.137480   \n",
       "the  0.272040 -0.062030 -0.18840  0.023225 -0.018158  0.006719 -0.138770   \n",
       "and -0.185670  0.066008 -0.25209 -0.117250  0.265130  0.064908  0.122910   \n",
       "to   0.319240  0.063160 -0.27858  0.261200  0.079248 -0.214620 -0.104950   \n",
       "\n",
       "          8         9       10   ...      291       292      293       294  \\\n",
       "0                                ...                                         \n",
       ",   -0.331100 -0.306910  2.0817  ... -0.14331  0.018267 -0.18643  0.207090   \n",
       ".   -0.331570 -0.136940  1.7893  ...  0.16165 -0.066737 -0.29556  0.022612   \n",
       "the  0.177080  0.177090  2.5882  ... -0.42810  0.168990  0.22511 -0.285570   \n",
       "and -0.093979  0.024321  2.4926  ... -0.59396 -0.097729  0.20072  0.170550   \n",
       "to   0.154950 -0.033530  2.4834  ... -0.12977  0.371300  0.18888 -0.004274   \n",
       "\n",
       "          295       296       297       298       299      300  \n",
       "0                                                               \n",
       ",   -0.355980  0.053380 -0.050821 -0.191800 -0.378460 -0.06589  \n",
       ".   -0.281350  0.063500  0.140190  0.138710 -0.360490 -0.03500  \n",
       "the -0.102800 -0.018168  0.114070  0.130150 -0.183170  0.13230  \n",
       "and -0.004736 -0.039709  0.324980 -0.023452  0.123020  0.33120  \n",
       "to  -0.106450 -0.258100 -0.044629  0.082745  0.097801  0.25045  \n",
       "\n",
       "[5 rows x 300 columns]"
      ]
     },
     "execution_count": 2,
     "metadata": {},
     "output_type": "execute_result"
    }
   ],
   "source": [
    "vectors_path = 'data/glove.840B.300d.pkl' #change path if necessary\n",
    "vecs = pd.read_pickle(vectors_path)\n",
    "vecs.head()"
   ]
  },
  {
   "cell_type": "markdown",
   "id": "unavailable-cambodia",
   "metadata": {},
   "source": [
    "A function for loading vectors as numpy arrays"
   ]
  },
  {
   "cell_type": "code",
   "execution_count": 3,
   "id": "novel-diploma",
   "metadata": {},
   "outputs": [],
   "source": [
    "def word_vector(word):\n",
    "    #takes a string and returns the corresponding word vector as a np array\n",
    "    vec_word = [n for n in vecs.loc[word]]\n",
    "    return np.asarray(vec_word)"
   ]
  },
  {
   "cell_type": "markdown",
   "id": "funky-customs",
   "metadata": {},
   "source": [
    "## Section 1: Visualising country-capital relation\n",
    "Below there's an example of semantic relation visualisation.\n",
    "\n",
    "We'll store capitals and countries in a dictionary"
   ]
  },
  {
   "cell_type": "code",
   "execution_count": 4,
   "id": "useful-abuse",
   "metadata": {},
   "outputs": [],
   "source": [
    "capital_country={}\n",
    "with open('data/country_list.csv') as csvfile:\n",
    "    readCSV = csv.reader(csvfile, delimiter=',')\n",
    "    for row in readCSV:\n",
    "        country=row[0]\n",
    "        country=country.lower().replace(' ','_') # remove upper case and add _ for n-grams\n",
    "        capital=row[1]\n",
    "        capital=capital.lower().replace(' ','_')\n",
    "        try:\n",
    "            word_vector(capital)\n",
    "            word_vector(country)\n",
    "            capital_country[country] = capital\n",
    "        except Exception:\n",
    "            pass\n",
    "        \n",
    "all_words = [word for word in capital_country.keys()]+[word for word in capital_country.values()]"
   ]
  },
  {
   "cell_type": "markdown",
   "id": "annual-defensive",
   "metadata": {},
   "source": [
    "Dimensionality reduction using [PCA](https://scikit-learn.org/stable/modules/decomposition.html#pca)"
   ]
  },
  {
   "cell_type": "code",
   "execution_count": 5,
   "id": "genuine-worthy",
   "metadata": {},
   "outputs": [],
   "source": [
    "all_vectors = [word_vector(word) for word in all_words]\n",
    "\n",
    "pca = PCA(n_components=2)\n",
    "pca_vecs = pca.fit_transform(all_vectors)"
   ]
  },
  {
   "cell_type": "markdown",
   "id": "seven-pixel",
   "metadata": {},
   "source": [
    "Visualisation using matplotlib"
   ]
  },
  {
   "cell_type": "code",
   "execution_count": 6,
   "id": "departmental-sample",
   "metadata": {},
   "outputs": [
    {
     "data": {
      "image/png": "[encoded data removed]",
      "text/plain": [
       "<Figure size 720x432 with 1 Axes>"
      ]
     },
     "metadata": {
      "needs_background": "light"
     },
     "output_type": "display_data"
    }
   ],
   "source": [
    "colours = ['tab:blue']*len(capital_country)+['tab:orange']*len(capital_country)\n",
    "x_vecs, y_vecs = [v[0] for v in pca_vecs], [v[1] for v in pca_vecs]\n",
    "plt.scatter(x_vecs, y_vecs, c=colours)\n",
    "plt.title('Visualisation of GloVe - countries and capitals')\n",
    "\n",
    "labels = ['chile','santiago','france','paris','japan','tokio','canada','ottawa','tunisia','tunis']\n",
    "for element in labels:\n",
    "    vec = pca.transform(word_vector(element).reshape(1,300))\n",
    "    plt.text(vec[:,0], vec[:,1], element, fontweight='bold')"
   ]
  },
  {
   "cell_type": "markdown",
   "id": "dramatic-elements",
   "metadata": {},
   "source": [
    "Here we have performed a PCA reduction on ~120 Capital-Country pairs, and we have have tagged some fo them.\n",
    "\n",
    "We can visually experiment with the embedding space: let's consider the case in which we want to know which one is the capital of Chile. If we know that Paris is the capital of France, then we could try adding the vector representing the path between capitals and countries:"
   ]
  },
  {
   "cell_type": "code",
   "execution_count": 7,
   "id": "convertible-baseball",
   "metadata": {},
   "outputs": [
    {
     "data": {
      "text/plain": [
       "<matplotlib.patches.FancyArrow at 0x7f68b554e310>"
      ]
     },
     "execution_count": 7,
     "metadata": {},
     "output_type": "execute_result"
    },
    {
     "data": {
      "image/png": "[encoded data removed]",
      "text/plain": [
       "<Figure size 720x432 with 1 Axes>"
      ]
     },
     "metadata": {
      "needs_background": "light"
     },
     "output_type": "display_data"
    }
   ],
   "source": [
    "countries_capitals_subset = ['france','paris','chile','santiago']\n",
    "pca_words = pca.transform([word_vector(word) for word in countries_capitals_subset])\n",
    "\n",
    "x_vecs, y_vecs = [v[0] for v in pca_words], [v[1] for v in pca_words]\n",
    "plt.scatter(x_vecs, y_vecs)\n",
    "plt.title('Visualisation of GloVe - countries and capitals')\n",
    "for element in countries_capitals_subset:\n",
    "    vec = pca.transform(word_vector(element).reshape(1,300))\n",
    "    plt.text(vec[:,0], vec[:,1], element, fontweight='bold')\n",
    "    \n",
    "# drawing arrows\n",
    "vec_france, vec_paris = pca_words[0], pca_words[1]\n",
    "arrow_france = vec_paris-vec_france\n",
    "plt.arrow(vec_france[0],vec_france[1],arrow_france[0],arrow_france[1])\n",
    "# now we approximate for Chile\n",
    "vec_chile, vec_stgo = pca_words[2], pca_words[3]\n",
    "# theoretical arrow\n",
    "plt.arrow(vec_chile[0],vec_chile[1],arrow_france[0],arrow_france[1],color='red')\n",
    "# actual arrow\n",
    "arrow_chile = vec_stgo-vec_chile\n",
    "plt.arrow(vec_chile[0],vec_chile[1],arrow_chile[0],arrow_chile[1],linestyle=':')"
   ]
  },
  {
   "cell_type": "markdown",
   "id": "employed-laptop",
   "metadata": {},
   "source": [
    "## Section 2: Visualising Semantic Relations\n",
    "\n",
    "You're given a dataset of **adjectives** with their respective **comparatives and superlatives**.\n",
    "\n",
    "For instance: high - higher - highest"
   ]
  },
  {
   "cell_type": "code",
   "execution_count": 8,
   "id": "descending-relative",
   "metadata": {},
   "outputs": [
    {
     "name": "stdout",
     "output_type": "stream",
     "text": [
      "['rougher', 'rough', 'roughest', 'meaner', 'mean', 'meanest']\n"
     ]
    }
   ],
   "source": [
    "words = []\n",
    "with open('data/adjectives.csv') as csvfile: # Change path if necessary\n",
    "    readCSV = csv.reader(csvfile)\n",
    "    for row in readCSV:\n",
    "        words.append(row[0])\n",
    "print(words[:6])"
   ]
  },
  {
   "cell_type": "markdown",
   "id": "happy-participation",
   "metadata": {},
   "source": [
    "### To Do:\n",
    "1. Perform a PCA reduction on the set.\n",
    "2. Visualise this space\n",
    "3. Do you notice that GloVe encodes the relationship between the three kinds of word?"
   ]
  },
  {
   "cell_type": "code",
   "execution_count": null,
   "id": "informed-stereo",
   "metadata": {},
   "outputs": [],
   "source": [
    "### to do  ####"
   ]
  },
  {
   "cell_type": "markdown",
   "id": "sought-beads",
   "metadata": {},
   "source": [
    "**Bonus task**\n",
    "1. Take a subset of the words and draw arrows between the three different pairs (adj-com, adj-sup, com-sup), a color for each pair. Is it consistent? \n",
    "2. Can you think of an algorithm to automatically detect whether it is a base adjective, comparative or superlative?"
   ]
  },
  {
   "cell_type": "code",
   "execution_count": null,
   "id": "medieval-classification",
   "metadata": {},
   "outputs": [],
   "source": [
    "### to do ###"
   ]
  }
 ],
 "metadata": {
  "kernelspec": {
   "display_name": "intro_NLP",
   "language": "python",
   "name": "intro_nlp"
  },
  "language_info": {
   "codemirror_mode": {
    "name": "ipython",
    "version": 3
   },
   "file_extension": ".py",
   "mimetype": "text/x-python",
   "name": "python",
   "nbconvert_exporter": "python",
   "pygments_lexer": "ipython3",
   "version": "3.8.5"
  }
 },
 "nbformat": 4,
 "nbformat_minor": 5
}
